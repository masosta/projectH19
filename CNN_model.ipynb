{
 "cells": [
  {
   "cell_type": "code",
   "execution_count": 1,
   "metadata": {},
   "outputs": [],
   "source": [
    "%matplotlib inline\n",
    "from memory_profiler import memory_usage\n",
    "import os\n",
    "import pandas as pd\n",
    "from glob import glob\n",
    "import matplotlib.pyplot as plt\n",
    "import numpy as np\n",
    "import h5py"
   ]
  },
  {
   "cell_type": "code",
   "execution_count": 2,
   "metadata": {},
   "outputs": [
    {
     "name": "stderr",
     "output_type": "stream",
     "text": [
      "Using TensorFlow backend.\n"
     ]
    }
   ],
   "source": [
    "import keras\n",
    "from keras.layers import Activation, Dense, Dropout, Conv2D, \\\n",
    "                         Flatten, MaxPooling2D, GaussianNoise\n",
    "from keras.models import Sequential\n",
    "from keras.callbacks import EarlyStopping,ReduceLROnPlateau,ModelCheckpoint,TensorBoard,ProgbarLogger\n",
    "from keras import regularizers, optimizers\n",
    "from sklearn.model_selection import train_test_split\n",
    "from sklearn.utils import class_weight\n",
    "from sklearn.metrics import f1_score\n",
    "import librosa\n",
    "import librosa.display\n",
    "import numpy as np\n",
    "from sklearn.preprocessing import MultiLabelBinarizer\n",
    "import random\n",
    "import warnings\n",
    "warnings.filterwarnings('ignore')\n",
    "\n",
    "#object serialization\n",
    "import _pickle as cPickle  #python 3 change\n",
    "import os  \n",
    "\n",
    "%matplotlib inline"
   ]
  },
  {
   "cell_type": "code",
   "execution_count": 3,
   "metadata": {},
   "outputs": [],
   "source": [
    "#enable memory profiler for memory management usage %%memit \n",
    "%load_ext memory_profiler\n",
    "\n",
    "#enable garbage collection control\n",
    "import gc\n",
    "gc.enable()"
   ]
  },
  {
   "cell_type": "code",
   "execution_count": 4,
   "metadata": {},
   "outputs": [],
   "source": [
    "#progress tracker\n",
    "from tqdm import tqdm, tqdm_notebook"
   ]
  },
  {
   "cell_type": "code",
   "execution_count": 5,
   "metadata": {},
   "outputs": [],
   "source": [
    "# when set to TRUE, training data get loaded from a saved serialized data object file \n",
    "# All audio files data get saved to a serialized object file to save reloading time on training runs \n",
    "\n",
    "# Note: \n",
    "# On first time run, if serialized file doesn't exist, this flag will get overrident \n",
    "\n",
    "SKIP_AUDIO_RELOAD = False"
   ]
  },
  {
   "cell_type": "code",
   "execution_count": 6,
   "metadata": {},
   "outputs": [],
   "source": [
    "#location of the sound files\n",
    "INPUT_PATH='/Users/Bruker/prosjektH19'\n",
    "\n",
    "\n",
    "TRAIN_INPUT=INPUT_PATH+'/train'\n",
    "TRAIN_AUDIO_DIR=TRAIN_INPUT+'/Train'\n",
    "\n",
    "TEST_INPUT=INPUT_PATH+'/test'\n",
    "TEST_AUDIO_DIR=TEST_INPUT+'/Test'"
   ]
  },
  {
   "cell_type": "code",
   "execution_count": 7,
   "metadata": {},
   "outputs": [],
   "source": [
    "def load_input_data(pd, filepath):\n",
    "    # Read Data\n",
    "    data = pd.read_csv(filepath)\n",
    "    return data"
   ]
  },
  {
   "cell_type": "code",
   "execution_count": 10,
   "metadata": {},
   "outputs": [],
   "source": [
    "# training file\n",
    "TRAIN_FILE=TRAIN_INPUT+'/train.csv'\n",
    "train_input=load_input_data(pd,TRAIN_FILE)\n",
    "\n",
    "# test file\n",
    "TEST_FILE=TEST_INPUT+'/test.csv'\n",
    "test_input=load_input_data(pd,TEST_FILE)"
   ]
  },
  {
   "cell_type": "code",
   "execution_count": 11,
   "metadata": {
    "scrolled": true
   },
   "outputs": [
    {
     "data": {
      "text/plain": [
       "Class\n",
       "Chaffinch      99\n",
       "Jack Snipe    100\n",
       "Wind          100\n",
       "Name: Class, dtype: int64"
      ]
     },
     "execution_count": 11,
     "metadata": {},
     "output_type": "execute_result"
    }
   ],
   "source": [
    "#labels\n",
    "valid_train_label = train_input[['Class']]\n",
    "#x=data['label'].unique()\n",
    "valid_train_label.count()\n",
    "\n",
    "#unique classes\n",
    "x = train_input.groupby('Class')['Class'].count()\n",
    "x"
   ]
  },
  {
   "cell_type": "code",
   "execution_count": 12,
   "metadata": {
    "scrolled": true
   },
   "outputs": [
    {
     "data": {
      "text/plain": [
       "file_ID    299\n",
       "Class      299\n",
       "dtype: int64"
      ]
     },
     "execution_count": 12,
     "metadata": {},
     "output_type": "execute_result"
    }
   ],
   "source": [
    "# train data size\n",
    "valid_train_data = train_input[['file_ID', 'Class']] \n",
    "valid_train_data.count()"
   ]
  },
  {
   "cell_type": "code",
   "execution_count": 13,
   "metadata": {},
   "outputs": [
    {
     "data": {
      "text/plain": [
       "file_ID    18\n",
       "dtype: int64"
      ]
     },
     "execution_count": 13,
     "metadata": {},
     "output_type": "execute_result"
    }
   ],
   "source": [
    "# test data size\n",
    "valid_test_data = test_input[['file_ID']] \n",
    "valid_test_data.count()"
   ]
  },
  {
   "cell_type": "code",
   "execution_count": 15,
   "metadata": {},
   "outputs": [
    {
     "name": "stdout",
     "output_type": "stream",
     "text": [
      "sample /Users/Bruker/prosjektH19/train/Train/filter_sample3.wav\n"
     ]
    },
    {
     "data": {
      "text/html": [
       "<div>\n",
       "<style scoped>\n",
       "    .dataframe tbody tr th:only-of-type {\n",
       "        vertical-align: middle;\n",
       "    }\n",
       "\n",
       "    .dataframe tbody tr th {\n",
       "        vertical-align: top;\n",
       "    }\n",
       "\n",
       "    .dataframe thead th {\n",
       "        text-align: right;\n",
       "    }\n",
       "</style>\n",
       "<table border=\"1\" class=\"dataframe\">\n",
       "  <thead>\n",
       "    <tr style=\"text-align: right;\">\n",
       "      <th></th>\n",
       "      <th>file_ID</th>\n",
       "      <th>Class</th>\n",
       "      <th>path</th>\n",
       "    </tr>\n",
       "  </thead>\n",
       "  <tbody>\n",
       "    <tr>\n",
       "      <td>0</td>\n",
       "      <td>filter_sample2</td>\n",
       "      <td>Jack Snipe</td>\n",
       "      <td>/Users/Bruker/prosjektH19/train/Train/filter_s...</td>\n",
       "    </tr>\n",
       "    <tr>\n",
       "      <td>1</td>\n",
       "      <td>filter_sample3</td>\n",
       "      <td>Jack Snipe</td>\n",
       "      <td>/Users/Bruker/prosjektH19/train/Train/filter_s...</td>\n",
       "    </tr>\n",
       "    <tr>\n",
       "      <td>2</td>\n",
       "      <td>filter_sample4</td>\n",
       "      <td>Jack Snipe</td>\n",
       "      <td>/Users/Bruker/prosjektH19/train/Train/filter_s...</td>\n",
       "    </tr>\n",
       "    <tr>\n",
       "      <td>3</td>\n",
       "      <td>filter_sample43</td>\n",
       "      <td>Jack Snipe</td>\n",
       "      <td>/Users/Bruker/prosjektH19/train/Train/filter_s...</td>\n",
       "    </tr>\n",
       "    <tr>\n",
       "      <td>4</td>\n",
       "      <td>filter_sample44</td>\n",
       "      <td>Jack Snipe</td>\n",
       "      <td>/Users/Bruker/prosjektH19/train/Train/filter_s...</td>\n",
       "    </tr>\n",
       "  </tbody>\n",
       "</table>\n",
       "</div>"
      ],
      "text/plain": [
       "           file_ID       Class  \\\n",
       "0   filter_sample2  Jack Snipe   \n",
       "1   filter_sample3  Jack Snipe   \n",
       "2   filter_sample4  Jack Snipe   \n",
       "3  filter_sample43  Jack Snipe   \n",
       "4  filter_sample44  Jack Snipe   \n",
       "\n",
       "                                                path  \n",
       "0  /Users/Bruker/prosjektH19/train/Train/filter_s...  \n",
       "1  /Users/Bruker/prosjektH19/train/Train/filter_s...  \n",
       "2  /Users/Bruker/prosjektH19/train/Train/filter_s...  \n",
       "3  /Users/Bruker/prosjektH19/train/Train/filter_s...  \n",
       "4  /Users/Bruker/prosjektH19/train/Train/filter_s...  "
      ]
     },
     "execution_count": 15,
     "metadata": {},
     "output_type": "execute_result"
    }
   ],
   "source": [
    "#training audio files\n",
    "valid_train_data['path'] = TRAIN_AUDIO_DIR+'/' + train_input['file_ID'].astype('str')+\".wav\"\n",
    "print (\"sample\",valid_train_data.path[1])\n",
    "valid_train_data.head(5)"
   ]
  },
  {
   "cell_type": "code",
   "execution_count": 16,
   "metadata": {},
   "outputs": [
    {
     "name": "stdout",
     "output_type": "stream",
     "text": [
      "sample /Users/Bruker/prosjektH19/test/Test/Jacksnipe_9-4-2.wav\n"
     ]
    },
    {
     "data": {
      "text/html": [
       "<div>\n",
       "<style scoped>\n",
       "    .dataframe tbody tr th:only-of-type {\n",
       "        vertical-align: middle;\n",
       "    }\n",
       "\n",
       "    .dataframe tbody tr th {\n",
       "        vertical-align: top;\n",
       "    }\n",
       "\n",
       "    .dataframe thead th {\n",
       "        text-align: right;\n",
       "    }\n",
       "</style>\n",
       "<table border=\"1\" class=\"dataframe\">\n",
       "  <thead>\n",
       "    <tr style=\"text-align: right;\">\n",
       "      <th></th>\n",
       "      <th>file_ID</th>\n",
       "      <th>path</th>\n",
       "    </tr>\n",
       "  </thead>\n",
       "  <tbody>\n",
       "    <tr>\n",
       "      <td>0</td>\n",
       "      <td>Jacksnipe_9-3-2</td>\n",
       "      <td>/Users/Bruker/prosjektH19/test/Test/Jacksnipe_...</td>\n",
       "    </tr>\n",
       "    <tr>\n",
       "      <td>1</td>\n",
       "      <td>Jacksnipe_9-4-2</td>\n",
       "      <td>/Users/Bruker/prosjektH19/test/Test/Jacksnipe_...</td>\n",
       "    </tr>\n",
       "    <tr>\n",
       "      <td>2</td>\n",
       "      <td>Jacksnipe_9-8</td>\n",
       "      <td>/Users/Bruker/prosjektH19/test/Test/Jacksnipe_...</td>\n",
       "    </tr>\n",
       "    <tr>\n",
       "      <td>3</td>\n",
       "      <td>Jacksnipe_9-6-2</td>\n",
       "      <td>/Users/Bruker/prosjektH19/test/Test/Jacksnipe_...</td>\n",
       "    </tr>\n",
       "    <tr>\n",
       "      <td>4</td>\n",
       "      <td>Jacksnipe_9-13</td>\n",
       "      <td>/Users/Bruker/prosjektH19/test/Test/Jacksnipe_...</td>\n",
       "    </tr>\n",
       "  </tbody>\n",
       "</table>\n",
       "</div>"
      ],
      "text/plain": [
       "           file_ID                                               path\n",
       "0  Jacksnipe_9-3-2  /Users/Bruker/prosjektH19/test/Test/Jacksnipe_...\n",
       "1  Jacksnipe_9-4-2  /Users/Bruker/prosjektH19/test/Test/Jacksnipe_...\n",
       "2    Jacksnipe_9-8  /Users/Bruker/prosjektH19/test/Test/Jacksnipe_...\n",
       "3  Jacksnipe_9-6-2  /Users/Bruker/prosjektH19/test/Test/Jacksnipe_...\n",
       "4   Jacksnipe_9-13  /Users/Bruker/prosjektH19/test/Test/Jacksnipe_..."
      ]
     },
     "execution_count": 16,
     "metadata": {},
     "output_type": "execute_result"
    }
   ],
   "source": [
    "#test audio files\n",
    "valid_test_data['path'] = TEST_AUDIO_DIR+'/' + test_input['file_ID'].astype('str') +\".wav\"\n",
    "print (\"sample\",valid_test_data.path[1])\n",
    "\n",
    "valid_test_data.head(5)"
   ]
  },
  {
   "cell_type": "code",
   "execution_count": 17,
   "metadata": {},
   "outputs": [],
   "source": [
    "# set duration on audio loading to make audio content to ensure each training data have same size\n",
    "audio_play_duration=3\n",
    "\n",
    "def load_audio_file(file_path, duration=3, sr=22050):\n",
    "    #load 3 seconds audio file, sampling rate sr=22050\n",
    "    # To preserve the native sampling rate of the file, use sr=None\n",
    "    input_length=sr*duration\n",
    "    # Load an audio file as a floating point time series.\n",
    "    # y : np.ndarray [shape=(n,) or (2, n)] - audio time series\n",
    "    # sr : number > 0 [scalar] - sampling rate of y\n",
    "    y, sr = librosa.load(file_path,sr=sr, duration=duration)\n",
    "    dur = librosa.get_duration(y=y)\n",
    "    #pad output if audio file less than duration\n",
    "    # Use edge-padding instead of zeros\n",
    "    if (round(dur) < duration):\n",
    "        offset = len(y) - round(input_length)\n",
    "        print (\"fixing audio length :\", file_path)\n",
    "        print (\"input:\", round(input_length), \" load:\", len(y) , \" offset:\", offset)\n",
    "        y = librosa.util.fix_length(y, round(input_length))      \n",
    "        y = librosa.util.normalize(y)\n",
    "    # using a pre-computed power spectrogram\n",
    "    # Short-time Fourier transform (STFT)\n",
    "    #D = np.abs(librosa.stft(y))**2\n",
    "    #ps = librosa.feature.melspectrogram(S=D)    # ENDRE SR FOR Å SE OM DET KAN HJELPE\n",
    "    ps = librosa.feature.melspectrogram(y=y, sr=2000, )\n",
    "    return ps"
   ]
  },
  {
   "cell_type": "code",
   "execution_count": 18,
   "metadata": {
    "scrolled": true
   },
   "outputs": [
    {
     "name": "stdout",
     "output_type": "stream",
     "text": [
      "loading train audio data, may take more than 15 minutes. please wait!\n"
     ]
    },
    {
     "name": "stderr",
     "output_type": "stream",
     "text": [
      "299it [00:15, 19.07it/s]\n"
     ]
    },
    {
     "name": "stdout",
     "output_type": "stream",
     "text": [
      "Number of train samples:  298\n",
      "Wall time: 15.7 s\n"
     ]
    }
   ],
   "source": [
    "%%time\n",
    "#%%memit \n",
    "# Dataset\n",
    "train_audio_data = [] \n",
    "train_object_file='saved_train_audio_data.p'\n",
    "\n",
    "#override the reload flag if serized file doesn't exist\n",
    "if not os.path.isfile(train_object_file):\n",
    "    SKIP_AUDIO_RELOAD = False\n",
    "\n",
    "#load training data\n",
    "if SKIP_AUDIO_RELOAD is True:\n",
    "    print (\"skip re-loading TRAINING data from audio files\")\n",
    "else:\n",
    "    print (\"loading train audio data, may take more than 15 minutes. please wait!\")\n",
    "    for row in tqdm(valid_train_data.itertuples()):\n",
    "            ps = load_audio_file(file_path=row.path, duration=3.0)\n",
    "            if ps.shape != (128, 130): continue\n",
    "            train_audio_data.append( (ps, row.Class) ) \n",
    "    print(\"Number of train samples: \", len(train_audio_data))\n",
    "# have 300 samples, took 10 seconds to finish"
   ]
  },
  {
   "cell_type": "code",
   "execution_count": 19,
   "metadata": {},
   "outputs": [
    {
     "name": "stdout",
     "output_type": "stream",
     "text": [
      "save loaded test data : 0\n"
     ]
    }
   ],
   "source": [
    "# load saved data\n",
    "test_audio_data = []\n",
    "test_object_file='saved_test_audio_data.p'\n",
    "if SKIP_AUDIO_RELOAD is True:\n",
    "    test_audio_data = cPickle.load(open(test_object_file, 'rb'))\n",
    "    print (\"loaded test data [%s] records from object file\" % len(test_audio_data))      \n",
    "else:\n",
    "    cPickle.dump(test_audio_data, open(test_object_file, 'wb')) \n",
    "    print (\"save loaded test data :\", len(test_audio_data))"
   ]
  },
  {
   "cell_type": "code",
   "execution_count": 20,
   "metadata": {},
   "outputs": [
    {
     "name": "stdout",
     "output_type": "stream",
     "text": [
      "unique text labels count:  3\n",
      "labels:  ['Chaffinch', 'Jack Snipe', 'Wind']\n",
      "encoded labelint values [0 1 2]\n",
      "test label to int  2\n",
      "int to label:  {0: 'Chaffinch', 1: 'Jack Snipe', 2: 'Wind'}\n"
     ]
    }
   ],
   "source": [
    "#prepare for training\n",
    "from sklearn.preprocessing import LabelEncoder\n",
    "from sklearn.preprocessing import OneHotEncoder\n",
    "from keras.utils import to_categorical\n",
    "from numpy import argmax\n",
    "\n",
    "# get a set of unique text labels\n",
    "list_labels = sorted(list(set(valid_train_data.Class.values)))\n",
    "print (\"unique text labels count: \",len(list_labels))\n",
    "print (\"labels: \",list_labels)\n",
    "\n",
    "# integer encode\n",
    "label_encoder = LabelEncoder()\n",
    "label_integer_encoded = label_encoder.fit_transform(list_labels)\n",
    "print(\"encoded labelint values\", label_integer_encoded)\n",
    "\n",
    "# one hot encode\n",
    "encoded_test = to_categorical(label_integer_encoded)\n",
    "inverted_test = argmax(encoded_test[0])\n",
    "#print(encoded_test, inverted_test)\n",
    "\n",
    "#map filename to label\n",
    "file_to_label = {k:v for k,v in zip(valid_train_data.path.values, valid_train_data.file_ID.values)}\n",
    "#print(\"file_to_label:\", file_to_label)\n",
    "# Map integer value to text labels\n",
    "label_to_int = {k:v for v,k in enumerate(list_labels)}\n",
    "print (\"test label to int \",label_to_int[\"Wind\"])\n",
    "\n",
    "# map integer to text labels\n",
    "int_to_label = {v:k for k,v in label_to_int.items()}\n",
    "print (\"int to label: \",int_to_label)\n",
    "\n"
   ]
  },
  {
   "cell_type": "code",
   "execution_count": 21,
   "metadata": {},
   "outputs": [],
   "source": [
    "#full dataset\n",
    "dataset = train_audio_data\n",
    "random.shuffle(dataset)"
   ]
  },
  {
   "cell_type": "code",
   "execution_count": 22,
   "metadata": {},
   "outputs": [
    {
     "name": "stdout",
     "output_type": "stream",
     "text": [
      "train  (209, 128, 130, 1) 209\n",
      "test  (89, 128, 130, 1) 89\n"
     ]
    }
   ],
   "source": [
    "RATIO=0.7\n",
    "train_cutoff= round(len(dataset) * RATIO)\n",
    "train = dataset[:train_cutoff]\n",
    "test = dataset[train_cutoff:]\n",
    "\n",
    "X_train, y_train = zip(*train)\n",
    "X_test, y_test = zip(*test)\n",
    "\n",
    "# Reshape for CNN input\n",
    "X_train = np.array([x.reshape( (128, 130, 1) ) for x in X_train])\n",
    "X_test = np.array([x.reshape( (128, 130, 1) ) for x in X_test])\n",
    "\n",
    "print (\"train \",X_train.shape, len(y_train))\n",
    "print (\"test \", X_test.shape, len(y_test))"
   ]
  },
  {
   "cell_type": "code",
   "execution_count": 23,
   "metadata": {},
   "outputs": [
    {
     "name": "stdout",
     "output_type": "stream",
     "text": [
      "y_test: [1 1 0 2 2 2 0 0 2 2 1 0 2 1 0 1 0 2 2 1 0 1 0 2 0 2 2 0 0 1 2 0 1 2 1 1 1\n",
      " 2 2 0 1 1 2 0 2 1 2 2 2 0 1 2 1 0 2 1 2 0 2 2 2 1 2 2 2 1 0 0 1 1 0 1 1 0\n",
      " 2 2 2 0 0 1 0 1 0 1 2 1 1 1 2]\n"
     ]
    }
   ],
   "source": [
    "# Apply sck-learn label text encoding to integer\n",
    "label_encoder = LabelEncoder()\n",
    "y_train_integer_encoded = label_encoder.fit_transform(y_train)\n",
    "y_test_integer_encoded = label_encoder.fit_transform(y_test)\n",
    "\n",
    "print('y_test:', y_test_integer_encoded)"
   ]
  },
  {
   "cell_type": "code",
   "execution_count": 24,
   "metadata": {},
   "outputs": [],
   "source": [
    "# Apply Keras One-Hot encoding for classes\n",
    "y_train = np.array(keras.utils.to_categorical(y_train_integer_encoded, len(list_labels)))\n",
    "y_test = np.array(keras.utils.to_categorical(y_test_integer_encoded, len(list_labels)))"
   ]
  },
  {
   "cell_type": "code",
   "execution_count": 25,
   "metadata": {},
   "outputs": [
    {
     "name": "stdout",
     "output_type": "stream",
     "text": [
      "test  (62, 128, 130, 1) 62\n",
      "valid  (27, 128, 130, 1) 27\n"
     ]
    }
   ],
   "source": [
    "#split up test into test and validation, to test the learned model on unseen data. relation 70/30. \n",
    "# Random state to ensure that the order in the test/validation set does not rocade for each run\n",
    "X_test, X_val, y_test, y_val = train_test_split(X_test, y_test, test_size=0.3, random_state = 42)\n",
    "\n",
    "print (\"test \",X_test.shape, len(y_test))\n",
    "print (\"valid \", X_val.shape, len(y_val))\n"
   ]
  },
  {
   "cell_type": "code",
   "execution_count": 26,
   "metadata": {},
   "outputs": [],
   "source": [
    "# Apply weight to balance the classes\n",
    "Class_Weights = class_weight.compute_class_weight('balanced', np.unique(y_train_integer_encoded), y_train_integer_encoded)"
   ]
  },
  {
   "cell_type": "code",
   "execution_count": 27,
   "metadata": {},
   "outputs": [
    {
     "name": "stdout",
     "output_type": "stream",
     "text": [
      "Model: \"sequential_1\"\n",
      "_________________________________________________________________\n",
      "Layer (type)                 Output Shape              Param #   \n",
      "=================================================================\n",
      "conv2d_1 (Conv2D)            (None, 126, 128, 16)      160       \n",
      "_________________________________________________________________\n",
      "max_pooling2d_1 (MaxPooling2 (None, 63, 64, 16)        0         \n",
      "_________________________________________________________________\n",
      "activation_1 (Activation)    (None, 63, 64, 16)        0         \n",
      "_________________________________________________________________\n",
      "conv2d_2 (Conv2D)            (None, 61, 62, 24)        3480      \n",
      "_________________________________________________________________\n",
      "max_pooling2d_2 (MaxPooling2 (None, 30, 31, 24)        0         \n",
      "_________________________________________________________________\n",
      "activation_2 (Activation)    (None, 30, 31, 24)        0         \n",
      "_________________________________________________________________\n",
      "conv2d_3 (Conv2D)            (None, 28, 29, 36)        7812      \n",
      "_________________________________________________________________\n",
      "max_pooling2d_3 (MaxPooling2 (None, 14, 14, 36)        0         \n",
      "_________________________________________________________________\n",
      "activation_3 (Activation)    (None, 14, 14, 36)        0         \n",
      "_________________________________________________________________\n",
      "flatten_1 (Flatten)          (None, 7056)              0         \n",
      "_________________________________________________________________\n",
      "dropout_1 (Dropout)          (None, 7056)              0         \n",
      "_________________________________________________________________\n",
      "dense_1 (Dense)              (None, 36)                254052    \n",
      "_________________________________________________________________\n",
      "activation_4 (Activation)    (None, 36)                0         \n",
      "_________________________________________________________________\n",
      "dropout_2 (Dropout)          (None, 36)                0         \n",
      "_________________________________________________________________\n",
      "dense_2 (Dense)              (None, 3)                 111       \n",
      "_________________________________________________________________\n",
      "activation_5 (Activation)    (None, 3)                 0         \n",
      "=================================================================\n",
      "Total params: 265,615\n",
      "Trainable params: 265,615\n",
      "Non-trainable params: 0\n",
      "_________________________________________________________________\n"
     ]
    }
   ],
   "source": [
    "# build convolution model\n",
    "# input shape = (128, 130, 1)\n",
    "model = Sequential()\n",
    "input_shape= X_train.shape[1:] \n",
    "\n",
    "model.add(Conv2D(16, (3, 3), strides=(1, 1), input_shape=input_shape))\n",
    "model.add(MaxPooling2D(2))\n",
    "model.add(Activation('relu'))\n",
    "\n",
    "model.add(Conv2D(24, (3, 3), padding=\"valid\"))\n",
    "model.add(MaxPooling2D(pool_size = 2))\n",
    "model.add(Activation('relu'))\n",
    "\n",
    "model.add(Conv2D(36, (3, 3), padding=\"valid\"))\n",
    "model.add(MaxPooling2D(pool_size=2))\n",
    "model.add(Activation('relu'))\n",
    "\n",
    "model.add(Flatten())\n",
    "model.add(Dropout(rate=0.5))\n",
    "\n",
    "model.add(Dense(36))\n",
    "model.add(Activation('relu'))\n",
    "model.add(Dropout(rate=0.5))\n",
    "\n",
    "model.add(Dense(len(list_labels)))\n",
    "model.add(Activation('softmax'))\n",
    "\n",
    "model.summary()\n",
    "\n",
    "\n"
   ]
  },
  {
   "cell_type": "code",
   "execution_count": 28,
   "metadata": {},
   "outputs": [
    {
     "name": "stdout",
     "output_type": "stream",
     "text": [
      "training started.... please wait!\n",
      "\n",
      "Epoch 00001: loss improved from inf to 0.91877, saving model to ./best_CNN_model_trained_AC.hdf5\n",
      "\n",
      "Epoch 00002: loss improved from 0.91877 to 0.60546, saving model to ./best_CNN_model_trained_AC.hdf5\n",
      "\n",
      "Epoch 00003: loss improved from 0.60546 to 0.35000, saving model to ./best_CNN_model_trained_AC.hdf5\n",
      "\n",
      "Epoch 00004: loss improved from 0.35000 to 0.26177, saving model to ./best_CNN_model_trained_AC.hdf5\n",
      "\n",
      "Epoch 00005: loss improved from 0.26177 to 0.16556, saving model to ./best_CNN_model_trained_AC.hdf5\n",
      "training finished\n",
      "Evaluate model with test data\n",
      "62/62 [==============================] - ETA:  - 0s 3ms/step\n",
      "test loss: 0.255260580970395\n",
      "test accuracy: 0.9354838728904724\n",
      "Wall time: 13.5 s\n"
     ]
    }
   ],
   "source": [
    "%%time\n",
    "\n",
    "MAX_EPOCHS= 5\n",
    "MAX_BATCH_SIZE= 23           \n",
    "MAX_PATIENT= 2  \n",
    "\n",
    "# saved model checkpoint file\n",
    "best_model_file=\"./best_CNN_model_trained_AC.hdf5\"\n",
    "\n",
    "# callbacks\n",
    "callback=[ReduceLROnPlateau(patience=MAX_PATIENT, verbose=1),\n",
    "          ModelCheckpoint(filepath=best_model_file, monitor='loss', verbose=1, save_best_only=True)]\n",
    "\n",
    "#compile\n",
    "model.compile(optimizer=\"adam\",loss=\"categorical_crossentropy\",metrics=['accuracy'])\n",
    "\n",
    "#train\n",
    "print('training started.... please wait!')\n",
    "\n",
    "history = model.fit(x=X_train, y=y_train,\n",
    "                    epochs=MAX_EPOCHS,\n",
    "                    batch_size=MAX_BATCH_SIZE, \n",
    "                    verbose=0,\n",
    "                    validation_data= (X_val, y_val), \n",
    "                    callbacks=callback)\n",
    "print('training finished')\n",
    "# \n",
    "# quick evaludate model\n",
    "print('Evaluate model with test data')\n",
    "score = model.evaluate(x=X_test,y=y_test)\n",
    "\n",
    "print('test loss:', score[0])\n",
    "print('test accuracy:', score[1])\n"
   ]
  },
  {
   "cell_type": "code",
   "execution_count": 29,
   "metadata": {},
   "outputs": [
    {
     "data": {
      "text/plain": [
       "<Figure size 1584x720 with 0 Axes>"
      ]
     },
     "metadata": {},
     "output_type": "display_data"
    },
    {
     "data": {
      "image/png": "[encoded data removed]",
      "text/plain": [
       "<Figure size 1440x720 with 2 Axes>"
      ]
     },
     "metadata": {
      "needs_background": "light"
     },
     "output_type": "display_data"
    },
    {
     "name": "stdout",
     "output_type": "stream",
     "text": [
      "Wall time: 4.66 s\n"
     ]
    }
   ],
   "source": [
    "%%time\n",
    "#%%memit\n",
    "\n",
    "import matplotlib.pyplot as plt\n",
    "#Plot loss and accuracy for the training and validation set.\n",
    "def plot_history(history):\n",
    "    loss_list = [s for s in history.history.keys() if 'loss' in s and 'val' not in s]\n",
    "    val_loss_list = [s for s in history.history.keys() if 'loss' in s and 'val' in s]\n",
    "    acc_list = [s for s in history.history.keys() if 'acc' in s and 'val' not in s]\n",
    "    val_acc_list = [s for s in history.history.keys() if 'acc' in s and 'val' in s]\n",
    "    if len(loss_list) == 0:\n",
    "        print('Loss is missing in history')\n",
    "        return \n",
    "    plt.figure(figsize=(22,10))\n",
    "    ## As loss always exists\n",
    "    epochs = range(1,len(history.history[loss_list[0]]) + 1)\n",
    "    ## Accuracy\n",
    "    plt.figure(221, figsize=(20,10))\n",
    "    ## Accuracy\n",
    "    plt.subplot(221, title='Accuracy')\n",
    "    for l in acc_list:\n",
    "        plt.plot(epochs, history.history[l], 'b', label='Training accuracy (' + str(format(history.history[l][-1],'.5f'))+')')\n",
    "    for l in val_acc_list:    \n",
    "        plt.plot(epochs, history.history[l], 'g', label='Validation accuracy (' + str(format(history.history[l][-1],'.5f'))+')')\n",
    "    plt.title('Accuracy')\n",
    "    plt.xlabel('Epochs')\n",
    "    plt.ylabel('Accuracy')\n",
    "    plt.legend()\n",
    "    ## Loss\n",
    "    plt.subplot(222, title='Loss')\n",
    "    for l in loss_list:\n",
    "        plt.plot(epochs, history.history[l], 'b', label='Training loss (' + str(str(format(history.history[l][-1],'.5f'))+')'))\n",
    "    for l in val_loss_list:\n",
    "        plt.plot(epochs, history.history[l], 'g', label='Validation loss (' + str(str(format(history.history[l][-1],'.5f'))+')'))    \n",
    "    plt.title('Loss')\n",
    "    plt.xlabel('Epochs')\n",
    "    plt.ylabel('Loss')\n",
    "    plt.legend()\n",
    "    plt.show()\n",
    "\n",
    "# plot history\n",
    "plot_history(history)"
   ]
  },
  {
   "cell_type": "code",
   "execution_count": 30,
   "metadata": {},
   "outputs": [
    {
     "name": "stdout",
     "output_type": "stream",
     "text": [
      "model train data score       :  97 %\n",
      "model test data score        :  94 %\n",
      "model validation data score  :  100 %\n"
     ]
    }
   ],
   "source": [
    "#Evaludate model use Keras reported accuracy:\n",
    "score = model.evaluate(X_train, y_train, verbose=0) \n",
    "print (\"model train data score       : \",round(score[1]*100) , \"%\")\n",
    "\n",
    "score = model.evaluate(X_test, y_test, verbose=0) \n",
    "print (\"model test data score        : \",round(score[1]*100) , \"%\")\n",
    "\n",
    "score = model.evaluate(X_val, y_val, verbose=0) \n",
    "print (\"model validation data score  : \", round(score[1]*100), \"%\")"
   ]
  },
  {
   "cell_type": "code",
   "execution_count": 629,
   "metadata": {},
   "outputs": [
    {
     "name": "stdout",
     "output_type": "stream",
     "text": [
      "(62,) (62,)\n",
      "              precision    recall  f1-score   support\n",
      "\n",
      "   Chaffinch       1.00      1.00      1.00        19\n",
      "  Jack Snipe       0.88      1.00      0.93        21\n",
      "        Wind       1.00      0.86      0.93        22\n",
      "\n",
      "    accuracy                           0.95        62\n",
      "   macro avg       0.96      0.95      0.95        62\n",
      "weighted avg       0.96      0.95      0.95        62\n",
      "\n"
     ]
    }
   ],
   "source": [
    "# f1 score by using the classification report from the sklearn libary\n",
    "\n",
    "from sklearn.metrics import classification_report\n",
    "import numpy as np\n",
    "\n",
    "\n",
    "y_true = np.argmax(y_test, axis = 1)\n",
    "X_valid = np.expand_dims(X_test, axis = -1)\n",
    "y_pred = model.predict(X_test)\n",
    "y_pred = np.argmax(y_pred, axis = 1)\n",
    "labels = [0,1,2]\n",
    "target_names = list_labels \n",
    "\n",
    "print(y_true.shape, y_pred.shape)\n",
    "print(classification_report(y_true, y_pred, target_names=target_names))"
   ]
  },
  {
   "cell_type": "code",
   "execution_count": 31,
   "metadata": {},
   "outputs": [
    {
     "name": "stdout",
     "output_type": "stream",
     "text": [
      "Prediction with [train] data\n",
      "  --> match    : 203\n",
      "  --> miss     : 6\n",
      "  --> accuracy : 97.04 %\n",
      "\n",
      "---samples---\n",
      "predict Jack Snipe\n",
      "original Wind\n",
      "\n",
      "predict Jack Snipe\n",
      "original Chaffinch\n",
      "\n",
      "predict Jack Snipe\n",
      "original Chaffinch\n",
      "\n",
      "predict Jack Snipe\n",
      "original Wind\n",
      "\n",
      "predict Jack Snipe\n",
      "original Wind\n",
      "\n",
      "predict Jack Snipe\n",
      "original Wind\n",
      "\n"
     ]
    }
   ],
   "source": [
    "# Prediction test\n",
    "print (\"Prediction with [train] data\")\n",
    "y_pred = model.predict_classes(X_train)\n",
    "missed=[]\n",
    "matched=[]\n",
    "for i in range(len(y_pred)):\n",
    "    y_val_label_int = argmax(y_train[i])\n",
    "    if (y_pred[i]!=y_val_label_int):\n",
    "        missed.append( (y_pred[i], \"-\", int_to_label[y_pred[i]], \" - \", int_to_label[y_val_label_int] ))\n",
    "    else:\n",
    "        matched.append((y_pred[i], \"-\", int_to_label[y_pred[i]], \" - \", int_to_label[y_val_label_int]))\n",
    "\n",
    "print (\"  --> match    :\", len(matched))\n",
    "print (\"  --> miss     :\", len(missed))\n",
    "print (\"  --> accuracy :\", round((len(matched)-len(missed))/len(matched)*100,2), \"%\")\n",
    "print (\"\")\n",
    "#print (\"Value missed : \\n\",missed)\n",
    "\n",
    "# show the samples that miss-matched\n",
    "print (\"---samples---\")\n",
    "for i in range(209):\n",
    "    if int_to_label[y_pred[i]] != int_to_label[argmax(y_train[i])]:\n",
    "        print('predict', int_to_label[y_pred[i]])\n",
    "        print('original', int_to_label[argmax(y_train[i])])\n",
    "        print (\"\")"
   ]
  },
  {
   "cell_type": "code",
   "execution_count": 631,
   "metadata": {},
   "outputs": [
    {
     "name": "stdout",
     "output_type": "stream",
     "text": [
      "Prediction with [test] data\n",
      "  --> match    : 59\n",
      "  --> miss     : 3\n",
      "  --> accuracy : 94.92 %\n",
      "\n",
      "---samples---\n",
      "0 predict = Jack Snipe\n",
      "0 original= Jack Snipe\n",
      "\n",
      "1 predict = Chaffinch\n",
      "1 original= Chaffinch\n",
      "\n",
      "2 predict = Jack Snipe\n",
      "2 original= Jack Snipe\n",
      "\n",
      "3 predict = Chaffinch\n",
      "3 original= Chaffinch\n",
      "\n",
      "4 predict = Wind\n",
      "4 original= Wind\n",
      "\n",
      "5 predict = Jack Snipe\n",
      "5 original= Jack Snipe\n",
      "\n",
      "6 predict = Chaffinch\n",
      "6 original= Chaffinch\n",
      "\n",
      "7 predict = Chaffinch\n",
      "7 original= Chaffinch\n",
      "\n",
      "8 predict = Wind\n",
      "8 original= Wind\n",
      "\n",
      "9 predict = Jack Snipe\n",
      "9 original= Jack Snipe\n",
      "\n",
      "10 predict = Wind\n",
      "10 original= Wind\n",
      "\n",
      "11 predict = Wind\n",
      "11 original= Wind\n",
      "\n",
      "12 predict = Jack Snipe\n",
      "12 original= Jack Snipe\n",
      "\n",
      "13 predict = Chaffinch\n",
      "13 original= Chaffinch\n",
      "\n",
      "14 predict = Jack Snipe\n",
      "14 original= Jack Snipe\n",
      "\n",
      "15 predict = Chaffinch\n",
      "15 original= Chaffinch\n",
      "\n",
      "16 predict = Wind\n",
      "16 original= Wind\n",
      "\n",
      "17 predict = Chaffinch\n",
      "17 original= Chaffinch\n",
      "\n",
      "18 predict = Jack Snipe\n",
      "18 original= Jack Snipe\n",
      "\n",
      "19 predict = Chaffinch\n",
      "19 original= Chaffinch\n",
      "\n",
      "20 predict = Jack Snipe\n",
      "20 original= Wind\n",
      "\n",
      "21 predict = Wind\n",
      "21 original= Wind\n",
      "\n",
      "22 predict = Chaffinch\n",
      "22 original= Chaffinch\n",
      "\n",
      "23 predict = Jack Snipe\n",
      "23 original= Jack Snipe\n",
      "\n",
      "24 predict = Wind\n",
      "24 original= Wind\n",
      "\n",
      "25 predict = Wind\n",
      "25 original= Wind\n",
      "\n",
      "26 predict = Chaffinch\n",
      "26 original= Chaffinch\n",
      "\n",
      "27 predict = Chaffinch\n",
      "27 original= Chaffinch\n",
      "\n",
      "28 predict = Chaffinch\n",
      "28 original= Chaffinch\n",
      "\n",
      "29 predict = Jack Snipe\n",
      "29 original= Jack Snipe\n",
      "\n",
      "30 predict = Jack Snipe\n",
      "30 original= Jack Snipe\n",
      "\n",
      "31 predict = Jack Snipe\n",
      "31 original= Jack Snipe\n",
      "\n",
      "32 predict = Chaffinch\n",
      "32 original= Chaffinch\n",
      "\n",
      "33 predict = Jack Snipe\n",
      "33 original= Jack Snipe\n",
      "\n",
      "34 predict = Chaffinch\n",
      "34 original= Chaffinch\n",
      "\n",
      "35 predict = Chaffinch\n",
      "35 original= Chaffinch\n",
      "\n",
      "36 predict = Wind\n",
      "36 original= Wind\n",
      "\n",
      "37 predict = Jack Snipe\n",
      "37 original= Wind\n",
      "\n",
      "38 predict = Wind\n",
      "38 original= Wind\n",
      "\n",
      "39 predict = Wind\n",
      "39 original= Wind\n",
      "\n",
      "40 predict = Chaffinch\n",
      "40 original= Chaffinch\n",
      "\n",
      "41 predict = Wind\n",
      "41 original= Wind\n",
      "\n",
      "42 predict = Jack Snipe\n",
      "42 original= Jack Snipe\n",
      "\n",
      "43 predict = Wind\n",
      "43 original= Wind\n",
      "\n",
      "44 predict = Jack Snipe\n",
      "44 original= Wind\n",
      "\n",
      "45 predict = Chaffinch\n",
      "45 original= Chaffinch\n",
      "\n",
      "46 predict = Wind\n",
      "46 original= Wind\n",
      "\n",
      "47 predict = Jack Snipe\n",
      "47 original= Jack Snipe\n",
      "\n",
      "48 predict = Jack Snipe\n",
      "48 original= Jack Snipe\n",
      "\n",
      "49 predict = Wind\n",
      "49 original= Wind\n",
      "\n",
      "50 predict = Jack Snipe\n",
      "50 original= Jack Snipe\n",
      "\n",
      "51 predict = Wind\n",
      "51 original= Wind\n",
      "\n",
      "52 predict = Wind\n",
      "52 original= Wind\n",
      "\n",
      "53 predict = Jack Snipe\n",
      "53 original= Jack Snipe\n",
      "\n",
      "54 predict = Chaffinch\n",
      "54 original= Chaffinch\n",
      "\n",
      "55 predict = Jack Snipe\n",
      "55 original= Jack Snipe\n",
      "\n",
      "56 predict = Chaffinch\n",
      "56 original= Chaffinch\n",
      "\n",
      "57 predict = Jack Snipe\n",
      "57 original= Jack Snipe\n",
      "\n",
      "58 predict = Jack Snipe\n",
      "58 original= Jack Snipe\n",
      "\n",
      "59 predict = Wind\n",
      "59 original= Wind\n",
      "\n",
      "60 predict = Wind\n",
      "60 original= Wind\n",
      "\n",
      "61 predict = Jack Snipe\n",
      "61 original= Jack Snipe\n",
      "\n"
     ]
    }
   ],
   "source": [
    "# prediction class \n",
    "print (\"Prediction with [test] data\")\n",
    "y_pred = model.predict_classes(X_test)\n",
    "missed=[]\n",
    "matched=[]\n",
    "for i in range(len(y_pred)):\n",
    "    y_val_label_int = argmax(y_test[i])\n",
    "    if (y_pred[i]!=y_val_label_int):\n",
    "        missed.append( (y_pred[i], \"-\", int_to_label[y_pred[i]], \" - \", int_to_label[y_val_label_int] ))\n",
    "    else:\n",
    "        matched.append((y_pred[i], \"-\", int_to_label[y_pred[i]], \" - \", int_to_label[y_val_label_int]))\n",
    "\n",
    "print (\"  --> match    :\", len(matched))\n",
    "print (\"  --> miss     :\", len(missed))\n",
    "print (\"  --> accuracy :\", round((len(matched)-len(missed))/len(matched)*100,2), \"%\")\n",
    "print (\"\")\n",
    "#print (\"Value missed : \\n\",missed)\n",
    "\n",
    "# show sample results\n",
    "print (\"---samples---\")\n",
    "for i in range(62):\n",
    "    print(i,\"predict =\", int_to_label[y_pred[i]])\n",
    "    print (i,\"original=\", int_to_label[argmax(y_test[i])])\n",
    "    print (\"\")\n",
    "    "
   ]
  },
  {
   "cell_type": "code",
   "execution_count": 632,
   "metadata": {},
   "outputs": [
    {
     "name": "stdout",
     "output_type": "stream",
     "text": [
      "Prediction with [validation] data\n",
      "  |__match    : 26\n",
      "  |__miss     : 1\n",
      "  |__accuracy : 96.15 %\n",
      "\n",
      "---samples---\n",
      "0 predict = Wind\n",
      "0 original= Wind\n",
      "\n",
      "1 predict = Jack Snipe\n",
      "1 original= Jack Snipe\n",
      "\n",
      "2 predict = Wind\n",
      "2 original= Wind\n",
      "\n",
      "3 predict = Wind\n",
      "3 original= Wind\n",
      "\n",
      "4 predict = Jack Snipe\n",
      "4 original= Jack Snipe\n",
      "\n",
      "5 predict = Jack Snipe\n",
      "5 original= Jack Snipe\n",
      "\n",
      "6 predict = Chaffinch\n",
      "6 original= Chaffinch\n",
      "\n",
      "7 predict = Jack Snipe\n",
      "7 original= Jack Snipe\n",
      "\n",
      "8 predict = Wind\n",
      "8 original= Wind\n",
      "\n",
      "9 predict = Wind\n",
      "9 original= Wind\n",
      "\n",
      "10 predict = Chaffinch\n",
      "10 original= Chaffinch\n",
      "\n",
      "11 predict = Wind\n",
      "11 original= Wind\n",
      "\n",
      "12 predict = Chaffinch\n",
      "12 original= Chaffinch\n",
      "\n",
      "13 predict = Jack Snipe\n",
      "13 original= Jack Snipe\n",
      "\n"
     ]
    }
   ],
   "source": [
    "# prediction class \n",
    "print (\"Prediction with [validation] data\")\n",
    "y_pred = model.predict_classes(X_val)\n",
    "missed=[]\n",
    "matched=[]\n",
    "for i in range(len(y_pred)):\n",
    "    y_val_label_int = argmax(y_val[i])\n",
    "    if (y_pred[i]!=y_val_label_int):\n",
    "        missed.append( (y_pred[i], \"-\", int_to_label[y_pred[i]], \" - \", int_to_label[y_val_label_int] ))\n",
    "    else:\n",
    "        matched.append((y_pred[i], \"-\", int_to_label[y_pred[i]], \" - \", int_to_label[y_val_label_int]))\n",
    "\n",
    "print (\"  |__match    :\", len(matched))\n",
    "print (\"  |__miss     :\", len(missed))\n",
    "print (\"  |__accuracy :\", round((len(matched)-len(missed))/len(matched)*100,2), \"%\")\n",
    "print (\"\")\n",
    "\n",
    "# show sample results\n",
    "print (\"---samples---\")\n",
    "for i in range(14):\n",
    "    print (i,\"predict =\", int_to_label[y_pred[i]])\n",
    "    print (i,\"original=\", int_to_label[argmax(y_val[i])])\n",
    "    print (\"\")"
   ]
  }
 ],
 "metadata": {
  "kernelspec": {
   "display_name": "Python 3",
   "language": "python",
   "name": "python3"
  },
  "language_info": {
   "codemirror_mode": {
    "name": "ipython",
    "version": 3
   },
   "file_extension": ".py",
   "mimetype": "text/x-python",
   "name": "python",
   "nbconvert_exporter": "python",
   "pygments_lexer": "ipython3",
   "version": "3.7.4"
  }
 },
 "nbformat": 4,
 "nbformat_minor": 2
}
